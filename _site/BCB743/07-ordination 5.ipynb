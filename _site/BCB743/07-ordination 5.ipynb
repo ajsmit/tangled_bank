{
  "cells": [
    {
      "cell_type": "markdown",
      "metadata": {},
      "source": [
        "# 7. Ordination\n",
        "\n",
        "Ordination and the analysis of ecological gradients\n",
        "\n",
        "[AJ Smit](https://ajsmit.netlify.app)\n",
        "[![](data:image/png;base64,iVBORw0KGgoAAAANSUhEUgAAABAAAAAQCAYAAAAf8/9hAAAAGXRFWHRTb2Z0d2FyZQBBZG9iZSBJbWFnZVJlYWR5ccllPAAAA2ZpVFh0WE1MOmNvbS5hZG9iZS54bXAAAAAAADw/eHBhY2tldCBiZWdpbj0i77u/IiBpZD0iVzVNME1wQ2VoaUh6cmVTek5UY3prYzlkIj8+IDx4OnhtcG1ldGEgeG1sbnM6eD0iYWRvYmU6bnM6bWV0YS8iIHg6eG1wdGs9IkFkb2JlIFhNUCBDb3JlIDUuMC1jMDYwIDYxLjEzNDc3NywgMjAxMC8wMi8xMi0xNzozMjowMCAgICAgICAgIj4gPHJkZjpSREYgeG1sbnM6cmRmPSJodHRwOi8vd3d3LnczLm9yZy8xOTk5LzAyLzIyLXJkZi1zeW50YXgtbnMjIj4gPHJkZjpEZXNjcmlwdGlvbiByZGY6YWJvdXQ9IiIgeG1sbnM6eG1wTU09Imh0dHA6Ly9ucy5hZG9iZS5jb20veGFwLzEuMC9tbS8iIHhtbG5zOnN0UmVmPSJodHRwOi8vbnMuYWRvYmUuY29tL3hhcC8xLjAvc1R5cGUvUmVzb3VyY2VSZWYjIiB4bWxuczp4bXA9Imh0dHA6Ly9ucy5hZG9iZS5jb20veGFwLzEuMC8iIHhtcE1NOk9yaWdpbmFsRG9jdW1lbnRJRD0ieG1wLmRpZDo1N0NEMjA4MDI1MjA2ODExOTk0QzkzNTEzRjZEQTg1NyIgeG1wTU06RG9jdW1lbnRJRD0ieG1wLmRpZDozM0NDOEJGNEZGNTcxMUUxODdBOEVCODg2RjdCQ0QwOSIgeG1wTU06SW5zdGFuY2VJRD0ieG1wLmlpZDozM0NDOEJGM0ZGNTcxMUUxODdBOEVCODg2RjdCQ0QwOSIgeG1wOkNyZWF0b3JUb29sPSJBZG9iZSBQaG90b3Nob3AgQ1M1IE1hY2ludG9zaCI+IDx4bXBNTTpEZXJpdmVkRnJvbSBzdFJlZjppbnN0YW5jZUlEPSJ4bXAuaWlkOkZDN0YxMTc0MDcyMDY4MTE5NUZFRDc5MUM2MUUwNEREIiBzdFJlZjpkb2N1bWVudElEPSJ4bXAuZGlkOjU3Q0QyMDgwMjUyMDY4MTE5OTRDOTM1MTNGNkRBODU3Ii8+IDwvcmRmOkRlc2NyaXB0aW9uPiA8L3JkZjpSREY+IDwveDp4bXBtZXRhPiA8P3hwYWNrZXQgZW5kPSJyIj8+84NovQAAAR1JREFUeNpiZEADy85ZJgCpeCB2QJM6AMQLo4yOL0AWZETSqACk1gOxAQN+cAGIA4EGPQBxmJA0nwdpjjQ8xqArmczw5tMHXAaALDgP1QMxAGqzAAPxQACqh4ER6uf5MBlkm0X4EGayMfMw/Pr7Bd2gRBZogMFBrv01hisv5jLsv9nLAPIOMnjy8RDDyYctyAbFM2EJbRQw+aAWw/LzVgx7b+cwCHKqMhjJFCBLOzAR6+lXX84xnHjYyqAo5IUizkRCwIENQQckGSDGY4TVgAPEaraQr2a4/24bSuoExcJCfAEJihXkWDj3ZAKy9EJGaEo8T0QSxkjSwORsCAuDQCD+QILmD1A9kECEZgxDaEZhICIzGcIyEyOl2RkgwAAhkmC+eAm0TAAAAABJRU5ErkJggg==)](https://orcid.org/0000-0002-3799-6126)\n",
        "([University of the Western Cape](https://uwc.ac.za))  \n",
        "2021-01-01"
      ],
      "id": "8b15d0b9-2e48-41fc-bf4e-22f29458a35d"
    },
    {
      "cell_type": "raw",
      "metadata": {
        "raw_mimetype": "text/html"
      },
      "source": [
        "<!--- # Topic 7: Ordination --->"
      ],
      "id": "354d1729-f46c-4efc-b786-fe85d4156006"
    },
    {
      "cell_type": "markdown",
      "metadata": {},
      "source": [
        "> ****Material required for this chapter****\n",
        ">\n",
        "> | Type        | Name                                | Link                                                                |\n",
        "> |----------------|-------------------|-------------------------------------|\n",
        "> | **Slides**  | Ordination lecture slides           | [💾 `BCB743_07_ordination.pdf`](../slides/BCB743_07_ordination.pdf) |\n",
        "> | **Reading** | Vegan–An Introduction to Ordination | [💾 `Oksanen_intro-vegan.pdf`](../docs/Oksanen_intro-vegan.pdf)     |\n",
        "\n",
        "Refer to the lecture slides."
      ],
      "id": "94c68320-210a-4cc4-ad18-34e861c22c86"
    },
    {
      "cell_type": "code",
      "execution_count": null,
      "metadata": {
        "fig-width": 6.5
      },
      "outputs": [
        {
          "output_type": "display_data",
          "metadata": {},
          "data": {
            "text/html": [
              "<pre class=\"mermaid mermaid-js\" data-label=\"fig-diagramme\">flowchart TB\n",
              "  A[Continuous multivariate data] --&gt; B{Ordination}\n",
              "  B --&gt; C[Unconstrained ordination]\n",
              "  B --&gt; D[Constrained ordination]\n",
              "  C --&gt; E(*PCA)\n",
              "  C --&gt; F(*CA)\n",
              "  C --&gt; G(DCA)\n",
              "  C --&gt; H(*PCoA)\n",
              "  C --&gt; I(*nMDS)\n",
              "  D --&gt; J(*RDA)\n",
              "  D --&gt; K(*CCA)\n",
              "  D --&gt; L(*db-RDA)\n",
              "</pre>"
            ]
          }
        }
      ],
      "source": [],
      "id": "5cda4b1f-c51a-4b85-a1cd-44dedd80e2ca"
    },
    {
      "cell_type": "markdown",
      "metadata": {},
      "source": [
        "## 1 Unconstrained ordination\n",
        "\n",
        "We apply indirect gradient analysis when the gradients are unknown *a\n",
        "priori* and we do not have environmental data related to the species.\n",
        "Gradients or other influences that structure species in space are\n",
        "therefore inferred from the species composition data only. The\n",
        "communities thus tell us that gradients are present (or not), but it\n",
        "might not offer insight into the identity of the structuring gradients.\n",
        "\n",
        "Please refer to:\n",
        "\n",
        "-   [Principal Component Analysis (PCA)](08-pca.qmd)\n",
        "-   [Correspondence Analysis (CA)](09-ca.qmd)\n",
        "-   [Principal Coordinate Analysis (PCoA)](10-pcoa.qmd)\n",
        "-   [non-Metric Multidimensional Scaling (nMDS)](11-nmds.qmd)\n",
        "\n",
        "## 2 Constrained ordination\n",
        "\n",
        "Any ordination approach in which important gradients are hypothesised.\n",
        "Likely evidence for the existence of gradients is measured and captured\n",
        "in a complementary environmental dataset that has the same spatial\n",
        "structure (rows) as the species dataset. Direct gradient analysis is\n",
        "performed using linear or non-linear regression approaches that relate\n",
        "the ordinations performed on the species and their matching\n",
        "environmental variables.\n",
        "\n",
        "-   Redundancy Analysis\n",
        "-   Constrained Correspondence Analysis (CCA)\n",
        "-   [Distance-based Redundancy Analysis\n",
        "    (db-RDA)](12-constrained_ordination.qmd)\n",
        "\n",
        "## 3 References"
      ],
      "id": "05e42997-3f35-454e-b71b-2b5f15baac54"
    }
  ],
  "nbformat": 4,
  "nbformat_minor": 5,
  "metadata": {
    "kernelspec": {
      "display_name": "Python 3",
      "language": "python",
      "name": "python3"
    }
  }
}